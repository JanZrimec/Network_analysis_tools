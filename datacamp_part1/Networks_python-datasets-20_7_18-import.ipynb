{
 "cells": [
  {
   "cell_type": "code",
   "execution_count": null,
   "metadata": {},
   "outputs": [],
   "source": [
    "## Reimports graph data to nx v 2.x\n"
   ]
  },
  {
   "cell_type": "code",
   "execution_count": 9,
   "metadata": {},
   "outputs": [],
   "source": [
    "import matplotlib.pyplot as plt\n",
    "import networkx as nx\n",
    "\n",
    "import pickle\n",
    "\n",
    "from datetime import date\n",
    "\n",
    "import pandas as pd\n",
    "import numpy as np\n"
   ]
  },
  {
   "cell_type": "code",
   "execution_count": 10,
   "metadata": {},
   "outputs": [
    {
     "data": {
      "text/plain": [
       "'2.1'"
      ]
     },
     "execution_count": 10,
     "metadata": {},
     "output_type": "execute_result"
    }
   ],
   "source": [
    "nx.__version__\n"
   ]
  },
  {
   "cell_type": "code",
   "execution_count": 13,
   "metadata": {},
   "outputs": [],
   "source": [
    "# downloaded files from datacamp\n",
    "# load saved dataframes and build networks\n",
    "\n",
    "G_node_list = pd.read_csv('github_users_nodelist.tsv',sep='\\t')\n",
    "G_edge_list = pd.read_csv('github_users_edgelist.tsv',sep='\\t')\n",
    "\n",
    "T_node_list = pd.read_csv('ego-twitter_nodelist.tsv',sep='\\t')\n",
    "T_edge_list = pd.read_csv('ego-twitter_edgelist.tsv',sep='\\t')\n"
   ]
  },
  {
   "cell_type": "code",
   "execution_count": 50,
   "metadata": {},
   "outputs": [],
   "source": [
    "def frames_to_graph(T_node_list, T_edge_list, create=nx.Graph()):\n",
    "\n",
    "    # edges\n",
    "    T = nx.convert_matrix.from_pandas_edgelist(T_edge_list, 'node1', 'node2', \n",
    "                                               edge_attr=list(T_edge_list.columns.values[2:]), \n",
    "                                               create_using=create)\n",
    "\n",
    "    # nodes\n",
    "    T.add_nodes_from(T_node_list['node'].values)\n",
    "    data_keys = list(T_node_list.columns.values[1:])\n",
    "    if (len(data_keys) > 0):\n",
    "        for i in range(len(T.nodes())):\n",
    "            for ii in range(len(data_keys)):\n",
    "                T.node[T_node_list.loc[i,'node']][data_keys[ii]] = T_node_list.loc[i,data_keys[ii]]\n",
    "\n",
    "    return T\n"
   ]
  },
  {
   "cell_type": "code",
   "execution_count": 56,
   "metadata": {},
   "outputs": [],
   "source": [
    "T = frames_to_graph(T_node_list, T_edge_list, create=nx.DiGraph())"
   ]
  },
  {
   "cell_type": "code",
   "execution_count": 57,
   "metadata": {},
   "outputs": [],
   "source": [
    "G = frames_to_graph(G_node_list, G_edge_list, create=nx.Graph())"
   ]
  },
  {
   "cell_type": "code",
   "execution_count": null,
   "metadata": {},
   "outputs": [],
   "source": []
  },
  {
   "cell_type": "code",
   "execution_count": 78,
   "metadata": {},
   "outputs": [
    {
     "name": "stdout",
     "output_type": "stream",
     "text": [
      "6874\n",
      "56519\n",
      "5627\n",
      "5736\n"
     ]
    }
   ],
   "source": [
    "# test\n",
    "G = nx.convert_matrix.from_pandas_edgelist(G_edge_list, 'node1', 'node2', \n",
    "                                            edge_attr=list(G_edge_list.columns.values[2:]), \n",
    "                                            create_using=nx.Graph())\n",
    "print(len(G.nodes()))\n",
    "G.add_nodes_from(G_node_list['node'].values)\n",
    "print(len(G.nodes()))\n",
    "print(len(G_edge_list['node1'].unique()))\n",
    "print(len(G_edge_list['node2'].unique()))\n"
   ]
  },
  {
   "cell_type": "code",
   "execution_count": null,
   "metadata": {},
   "outputs": [],
   "source": []
  }
 ],
 "metadata": {
  "kernelspec": {
   "display_name": "Python [default]",
   "language": "python",
   "name": "python3"
  },
  "language_info": {
   "codemirror_mode": {
    "name": "ipython",
    "version": 3
   },
   "file_extension": ".py",
   "mimetype": "text/x-python",
   "name": "python",
   "nbconvert_exporter": "python",
   "pygments_lexer": "ipython3",
   "version": "3.6.3"
  }
 },
 "nbformat": 4,
 "nbformat_minor": 2
}
