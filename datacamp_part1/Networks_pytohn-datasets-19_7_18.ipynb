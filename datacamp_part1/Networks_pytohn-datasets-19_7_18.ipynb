{
 "cells": [
  {
   "cell_type": "code",
   "execution_count": 1,
   "metadata": {},
   "outputs": [],
   "source": [
    "## script to convert pickeled datasets from nx ver 1.x to nx ver 2.x reaadable\n",
    "\n",
    "# conda create -name nx11py36 python=3.6\n",
    "# conda install matplotlib\n",
    "# conda install networkx=1.11\n",
    "\n",
    "# conda config --add channels conda-forge\n",
    "# conda install nxviz\n"
   ]
  },
  {
   "cell_type": "code",
   "execution_count": 34,
   "metadata": {},
   "outputs": [],
   "source": [
    "#import networkx as nx\n",
    "import networkx as nx\n",
    "import pickle\n",
    "import pandas as pd\n",
    "import numpy as np\n"
   ]
  },
  {
   "cell_type": "code",
   "execution_count": 5,
   "metadata": {},
   "outputs": [
    {
     "data": {
      "text/plain": [
       "'1.11'"
      ]
     },
     "execution_count": 5,
     "metadata": {},
     "output_type": "execute_result"
    }
   ],
   "source": [
    "nx.__version__"
   ]
  },
  {
   "cell_type": "code",
   "execution_count": 9,
   "metadata": {},
   "outputs": [],
   "source": [
    "#pickle.dump([nx.nodes(data=True), nx.edges(data=True)], 'dump_data_for_nx2x')  \n",
    "\n",
    "T = pickle.load(open('ego-twitter.p','rb'))\n",
    "G = pickle.load(open('github_users.p','rb'))"
   ]
  },
  {
   "cell_type": "code",
   "execution_count": 11,
   "metadata": {},
   "outputs": [],
   "source": [
    "nx.write_edgelist(T, 'ego-twitter_edgelist.tsv', comments='#', delimiter='\\t', data=True, encoding='utf-8')"
   ]
  },
  {
   "cell_type": "code",
   "execution_count": 12,
   "metadata": {},
   "outputs": [],
   "source": [
    "nx.write_edgelist(G, 'github_users_edgelist.tsv', comments='#', delimiter='\\t', data=True, encoding='utf-8')"
   ]
  },
  {
   "cell_type": "code",
   "execution_count": 14,
   "metadata": {},
   "outputs": [],
   "source": [
    "T_node_list = list(T.nodes(data=True))"
   ]
  },
  {
   "cell_type": "code",
   "execution_count": 26,
   "metadata": {},
   "outputs": [
    {
     "data": {
      "text/plain": [
       "'P'"
      ]
     },
     "execution_count": 26,
     "metadata": {},
     "output_type": "execute_result"
    }
   ],
   "source": [
    "# seems everyhitng is easily accessible in the list\n",
    "T_node_list[1][1]['category']"
   ]
  },
  {
   "cell_type": "code",
   "execution_count": 31,
   "metadata": {},
   "outputs": [],
   "source": [
    "# save list of node data\n",
    "#pd.DataFrame(T_node_list).to_csv('ego-twitter_nodelist.tsv',sep='\\t',header=False)\n"
   ]
  },
  {
   "cell_type": "code",
   "execution_count": 32,
   "metadata": {},
   "outputs": [],
   "source": [
    "G_node_list = list(G.nodes(data=True))\n",
    "#pd.DataFrame(G_node_list).to_csv('github_users_nodelist.tsv',sep='\\t',header=False)\n"
   ]
  },
  {
   "cell_type": "code",
   "execution_count": 33,
   "metadata": {},
   "outputs": [],
   "source": [
    "# # Convert T to a matrix format: A\n",
    "# A = nx.to_numpy_matrix(T)\n",
    "\n",
    "# # Convert A back to the NetworkX form as a directed graph: T_conv\n",
    "# T_conv = nx.from_numpy_matrix(A, create_using=nx.DiGraph())\n",
    "\n",
    "# # does not save data!\n",
    "# np.save('ego-twitter_numpy',A)\n"
   ]
  },
  {
   "cell_type": "code",
   "execution_count": 39,
   "metadata": {},
   "outputs": [],
   "source": [
    "# resave edge list since error on import in nx v2.1\n",
    "\n",
    "# T_edge_list = list(T.edges(data=True))\n",
    "# G_edge_list = list(G.edges(data=True))\n",
    "\n",
    "# pd.DataFrame(T_edge_list).to_csv('ego-twitter_edgelist_pd.tsv',sep='\\t',header=False)\n",
    "# pd.DataFrame(G_edge_list).to_csv('github_users_edgelist_pd.tsv',sep='\\t',header=False)\n"
   ]
  },
  {
   "cell_type": "code",
   "execution_count": 65,
   "metadata": {},
   "outputs": [],
   "source": [
    "# create first tidy dataframes \n",
    "# dictionaries to column values\n",
    "# make headers\n",
    "\n",
    "#T_node_list[1][1]['category']\n",
    "\n",
    "T_node_list = list(T.nodes(data=True))\n",
    "T_node_list_pd = pd.DataFrame(T_node_list)\n",
    "T_node_list_pd['occupation'] = \"\"\n",
    "T_node_list_pd['category'] = \"\"\n",
    "\n",
    "for i in range(len(T_node_list)):\n",
    "    T_node_list_pd.loc[i,'occupation'] = T_node_list[i][1]['occupation']\n",
    "    T_node_list_pd.loc[i,'category'] = T_node_list[i][1]['category']\n",
    "\n",
    "T_node_list_pd = T_node_list_pd.drop(columns=1).rename(columns={0: \"node\"})\n"
   ]
  },
  {
   "cell_type": "code",
   "execution_count": 73,
   "metadata": {},
   "outputs": [],
   "source": [
    "#T_node_list_pd.to_csv('ego-twitter_nodelist.tsv', sep='\\t', header=True)\n"
   ]
  },
  {
   "cell_type": "code",
   "execution_count": 82,
   "metadata": {},
   "outputs": [],
   "source": [
    "# create first tidy dataframes \n",
    "# dictionaries to column values\n",
    "# make headers\n",
    "\n",
    "#T_node_list[1][1]['category']\n",
    "\n",
    "T_edge_list = list(T.edges(data=True))\n",
    "T_edge_list_pd = pd.DataFrame(T_edge_list)\n",
    "T_edge_list_pd['date'] = \"\"\n",
    "\n",
    "for i in range(len(T_edge_list)):\n",
    "    T_edge_list_pd.loc[i,'date'] = T_edge_list[i][2]['date']\n",
    "\n",
    "T_edge_list_pd = T_edge_list_pd.drop(columns=2).rename(columns={0: \"node1\", 1:\"node2\"})\n"
   ]
  },
  {
   "cell_type": "code",
   "execution_count": 87,
   "metadata": {},
   "outputs": [],
   "source": [
    "#T_edge_list_pd.to_csv('ego-twitter_edgelist.tsv', sep='\\t', header=True)"
   ]
  },
  {
   "cell_type": "code",
   "execution_count": null,
   "metadata": {},
   "outputs": [],
   "source": []
  },
  {
   "cell_type": "code",
   "execution_count": 99,
   "metadata": {},
   "outputs": [],
   "source": [
    "## function to make data frame from nx graph\n",
    "# TODO: instead of for use vectorization\n",
    "\n",
    "def graph_to_frames(T):\n",
    "    # nodes\n",
    "    T_node_list = list(T.nodes(data=True))\n",
    "    T_node_list_pd = pd.DataFrame(T_node_list)\n",
    "    data_keys = list(T_node_list[1][1].keys())\n",
    "\n",
    "    if (len(data_keys) > 0):\n",
    "        for ii in range(len(data_keys)):\n",
    "            T_node_list_pd[data_keys[ii]] = \"\"\n",
    "        for i in range(len(T_node_list)):\n",
    "            for ii in range(len(data_keys)):\n",
    "                T_node_list_pd.loc[i,data_keys[ii]] = T_node_list[i][1][data_keys[ii]]\n",
    "\n",
    "    T_node_list_pd = T_node_list_pd.drop(columns=1).rename(columns={0: \"node\"})\n",
    "\n",
    "    # edges\n",
    "    T_edge_list = list(T.edges(data=True))\n",
    "    T_edge_list_pd = pd.DataFrame(T_edge_list)\n",
    "    data_keys = list(T_edge_list[1][2].keys())\n",
    "\n",
    "    if (len(data_keys) > 0):\n",
    "        for ii in range(len(data_keys)):\n",
    "            T_edge_list_pd[data_keys[ii]] = \"\"\n",
    "        for i in range(len(T_edge_list)):\n",
    "            for ii in range(len(data_keys)):\n",
    "                T_edge_list_pd.loc[i,data_keys[ii]] = T_edge_list[i][2][data_keys[ii]]\n",
    "\n",
    "    T_edge_list_pd = T_edge_list_pd.drop(columns=2).rename(columns={0: \"node1\", 1:\"node2\"})\n",
    "\n",
    "    return T_node_list_pd, T_edge_list_pd\n"
   ]
  },
  {
   "cell_type": "code",
   "execution_count": 114,
   "metadata": {},
   "outputs": [],
   "source": [
    "# graph G\n",
    "G_node_list_pd, G_edge_list_pd = graph_to_frames(G)\n",
    "\n",
    "G_node_list_pd.to_csv('github_users_nodelist.tsv', sep='\\t', header=True, index=False)\n",
    "G_edge_list_pd.to_csv('github_users_edgelist.tsv', sep='\\t', header=True, index=False)\n"
   ]
  },
  {
   "cell_type": "code",
   "execution_count": 117,
   "metadata": {},
   "outputs": [],
   "source": [
    "# graph T\n",
    "T_node_list_pd, T_edge_list_pd = graph_to_frames(T)\n",
    "\n",
    "T_node_list_pd.to_csv('ego-twitter_nodelist.tsv', sep='\\t', header=True, index=False)\n",
    "T_edge_list_pd.to_csv('ego-twitter_edgelist.tsv', sep='\\t', header=True, index=False)\n"
   ]
  },
  {
   "cell_type": "code",
   "execution_count": null,
   "metadata": {},
   "outputs": [],
   "source": []
  }
 ],
 "metadata": {
  "kernelspec": {
   "display_name": "Python [conda env:nx11py36]",
   "language": "python",
   "name": "conda-env-nx11py36-py"
  },
  "language_info": {
   "codemirror_mode": {
    "name": "ipython",
    "version": 3
   },
   "file_extension": ".py",
   "mimetype": "text/x-python",
   "name": "python",
   "nbconvert_exporter": "python",
   "pygments_lexer": "ipython3",
   "version": "3.6.5"
  }
 },
 "nbformat": 4,
 "nbformat_minor": 2
}
